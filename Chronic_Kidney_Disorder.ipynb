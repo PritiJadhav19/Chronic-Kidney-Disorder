{
  "cells": [
    {
      "cell_type": "code",
      "execution_count": null,
      "metadata": {
        "colab": {
          "background_save": true,
          "base_uri": "https://localhost:8080/"
        },
        "id": "qFsI9QWZFvaw",
        "outputId": "72721704-b35a-48af-c9c3-7ae5ec0dc10f"
      },
      "outputs": [
        {
          "name": "stdout",
          "output_type": "stream",
          "text": [
            "Dataset URL: https://www.kaggle.com/datasets/mansoordaku/ckdisease\n",
            "License(s): unknown\n",
            "ckdisease.zip: Skipping, found more recently modified local copy (use --force to force download)\n",
            "Archive:  ckdisease.zip\n",
            "replace kidney_disease.csv? [y]es, [n]o, [A]ll, [N]one, [r]ename: "
          ]
        }
      ],
      "source": [
        "!kaggle datasets download -d mansoordaku/ckdisease\n",
        "!unzip ckdisease.zip"
      ]
    },
    {
      "cell_type": "code",
      "execution_count": null,
      "metadata": {
        "id": "Sf0Sus45F1GW"
      },
      "outputs": [],
      "source": [
        "import pandas as pd\n",
        "import numpy as np\n",
        "from sklearn.model_selection import train_test_split, cross_val_score\n",
        "from sklearn.linear_model import LinearRegression, LogisticRegression\n",
        "from sklearn.tree import DecisionTreeClassifier\n",
        "from sklearn.ensemble import RandomForestClassifier, GradientBoostingClassifier, VotingClassifier\n",
        "from sklearn.metrics import accuracy_score, mean_squared_error, classification_report, confusion_matrix\n",
        "# Import LabelEncoder\n",
        "from sklearn.preprocessing import LabelEncoder\n"
      ]
    },
    {
      "cell_type": "code",
      "execution_count": null,
      "metadata": {
        "colab": {
          "base_uri": "https://localhost:8080/"
        },
        "id": "ID71OahwF8O5",
        "outputId": "5cb9a96c-2d79-4aa5-92c4-33f17841aa73"
      },
      "outputs": [
        {
          "name": "stdout",
          "output_type": "stream",
          "text": [
            "<class 'pandas.core.frame.DataFrame'>\n",
            "RangeIndex: 400 entries, 0 to 399\n",
            "Data columns (total 26 columns):\n",
            " #   Column          Non-Null Count  Dtype  \n",
            "---  ------          --------------  -----  \n",
            " 0   id              400 non-null    int64  \n",
            " 1   age             391 non-null    float64\n",
            " 2   bp              388 non-null    float64\n",
            " 3   sg              353 non-null    float64\n",
            " 4   al              354 non-null    float64\n",
            " 5   su              351 non-null    float64\n",
            " 6   rbc             248 non-null    object \n",
            " 7   pc              335 non-null    object \n",
            " 8   pcc             396 non-null    object \n",
            " 9   ba              396 non-null    object \n",
            " 10  bgr             356 non-null    float64\n",
            " 11  bu              381 non-null    float64\n",
            " 12  sc              383 non-null    float64\n",
            " 13  sod             313 non-null    float64\n",
            " 14  pot             312 non-null    float64\n",
            " 15  hemo            348 non-null    float64\n",
            " 16  pcv             330 non-null    object \n",
            " 17  wc              295 non-null    object \n",
            " 18  rc              270 non-null    object \n",
            " 19  htn             398 non-null    object \n",
            " 20  dm              398 non-null    object \n",
            " 21  cad             398 non-null    object \n",
            " 22  appet           399 non-null    object \n",
            " 23  pe              399 non-null    object \n",
            " 24  ane             399 non-null    object \n",
            " 25  classification  400 non-null    object \n",
            "dtypes: float64(11), int64(1), object(14)\n",
            "memory usage: 81.4+ KB\n"
          ]
        }
      ],
      "source": [
        "# Load the dataset\n",
        "data = pd.read_csv('/content/kidney_disease.csv')  # Update filename if needed\n",
        "\n",
        "# Inspect data\n",
        "data.info()\n",
        "data.head()\n",
        "\n",
        "# Preprocess data (handle missing values, encoding, scaling)\n",
        "data = data.dropna()  # Drop missing values for simplicity; handle more precisely if needed\n",
        "\n"
      ]
    },
    {
      "cell_type": "code",
      "execution_count": null,
      "metadata": {
        "colab": {
          "base_uri": "https://localhost:8080/"
        },
        "id": "b_-I3-QcJrXR",
        "outputId": "d3f2776e-f745-4880-b432-52216e7910ef"
      },
      "outputs": [
        {
          "name": "stdout",
          "output_type": "stream",
          "text": [
            "id                  int64\n",
            "age               float64\n",
            "bp                float64\n",
            "sg                float64\n",
            "al                float64\n",
            "su                float64\n",
            "rbc                object\n",
            "pc                 object\n",
            "pcc                object\n",
            "ba                 object\n",
            "bgr               float64\n",
            "bu                float64\n",
            "sc                float64\n",
            "sod               float64\n",
            "pot               float64\n",
            "hemo              float64\n",
            "pcv                object\n",
            "wc                 object\n",
            "rc                 object\n",
            "htn                object\n",
            "dm                 object\n",
            "cad                object\n",
            "appet              object\n",
            "pe                 object\n",
            "ane                object\n",
            "classification     object\n",
            "dtype: object\n"
          ]
        }
      ],
      "source": [
        "# Inspect column names and types to identify non-numeric columns\n",
        "print(data.dtypes)"
      ]
    },
    {
      "cell_type": "code",
      "execution_count": null,
      "metadata": {
        "id": "jETnXgtyKJ73"
      },
      "outputs": [],
      "source": [
        "\n",
        "# Preprocess data (handle missing values, encoding)\n",
        "data = data.dropna()  # Drop missing values for simplicity"
      ]
    },
    {
      "cell_type": "code",
      "execution_count": null,
      "metadata": {
        "id": "3ElvHdQuKNRJ"
      },
      "outputs": [],
      "source": [
        "\n",
        "# Convert categorical data to numerical format\n",
        "for column in data.select_dtypes(include=['object']).columns:\n",
        "    le = LabelEncoder()\n",
        "    data[column] = le.fit_transform(data[column])"
      ]
    },
    {
      "cell_type": "code",
      "execution_count": null,
      "metadata": {
        "id": "Wk3NiLUdKQHN"
      },
      "outputs": [],
      "source": [
        "# Separate features and target\n",
        "# Adjust 'classification' with actual target column name\n",
        "X = data.drop('classification', axis=1)\n",
        "y = data['classification']"
      ]
    },
    {
      "cell_type": "code",
      "execution_count": null,
      "metadata": {
        "id": "kDjXl2UpKSt0"
      },
      "outputs": [],
      "source": [
        "\n",
        "# Encode the target variable\n",
        "le_y = LabelEncoder()\n",
        "y = le_y.fit_transform(y)"
      ]
    },
    {
      "cell_type": "code",
      "execution_count": null,
      "metadata": {
        "id": "4-habHTOKVl2"
      },
      "outputs": [],
      "source": [
        "# Split data into training and testing sets\n",
        "X_train, X_test, y_train, y_test = train_test_split(X, y, test_size=0.2, random_state=42)\n"
      ]
    },
    {
      "cell_type": "code",
      "execution_count": null,
      "metadata": {
        "colab": {
          "base_uri": "https://localhost:8080/"
        },
        "id": "vNGypnrqKYb0",
        "outputId": "e82ae348-5dc7-4633-877f-4fe5079d2007"
      },
      "outputs": [
        {
          "name": "stdout",
          "output_type": "stream",
          "text": [
            "MLR Mean Squared Error: 0.021218173781410277\n"
          ]
        }
      ],
      "source": [
        "# Fit MLR model\n",
        "mlr = LinearRegression()\n",
        "mlr.fit(X_train, y_train)\n",
        "mlr_preds = mlr.predict(X_test)\n",
        "mlr_mse = mean_squared_error(y_test, mlr_preds)\n",
        "print(f\"MLR Mean Squared Error: {mlr_mse}\")"
      ]
    },
    {
      "cell_type": "code",
      "execution_count": null,
      "metadata": {
        "colab": {
          "base_uri": "https://localhost:8080/"
        },
        "id": "qmF2m_yFKcUg",
        "outputId": "960358da-2cf5-4cef-dbdf-1f2d66179ca6"
      },
      "outputs": [
        {
          "name": "stdout",
          "output_type": "stream",
          "text": [
            "SLR Mean Squared Error: 0.046060055773704624\n"
          ]
        }
      ],
      "source": [
        "slr = LinearRegression()\n",
        "slr.fit(X_train.iloc[:, [0]], y_train)  # First feature only\n",
        "slr_preds = slr.predict(X_test.iloc[:, [0]])\n",
        "slr_mse = mean_squared_error(y_test, slr_preds)\n",
        "print(f\"SLR Mean Squared Error: {slr_mse}\")\n"
      ]
    },
    {
      "cell_type": "code",
      "execution_count": null,
      "metadata": {
        "colab": {
          "base_uri": "https://localhost:8080/"
        },
        "id": "oZeDk8X-Khau",
        "outputId": "900c096c-0174-41b6-83e1-12bb8d6f5c3d"
      },
      "outputs": [
        {
          "name": "stdout",
          "output_type": "stream",
          "text": [
            "Logistic Regression Accuracy: 1.0\n"
          ]
        }
      ],
      "source": [
        "log_reg = LogisticRegression(max_iter=200)\n",
        "log_reg.fit(X_train, y_train)\n",
        "log_preds = log_reg.predict(X_test)\n",
        "log_accuracy = accuracy_score(y_test, log_preds)\n",
        "print(f\"Logistic Regression Accuracy: {log_accuracy}\")\n"
      ]
    },
    {
      "cell_type": "code",
      "execution_count": null,
      "metadata": {
        "colab": {
          "base_uri": "https://localhost:8080/"
        },
        "id": "R5xTcFqyKjnT",
        "outputId": "9022c41f-57c1-4456-ab6c-56be1d1f457c"
      },
      "outputs": [
        {
          "name": "stdout",
          "output_type": "stream",
          "text": [
            "Decision Tree Accuracy: 1.0\n"
          ]
        }
      ],
      "source": [
        "dt = DecisionTreeClassifier()\n",
        "dt.fit(X_train, y_train)\n",
        "dt_preds = dt.predict(X_test)\n",
        "dt_accuracy = accuracy_score(y_test, dt_preds)\n",
        "print(f\"Decision Tree Accuracy: {dt_accuracy}\")\n"
      ]
    },
    {
      "cell_type": "code",
      "execution_count": null,
      "metadata": {
        "colab": {
          "base_uri": "https://localhost:8080/"
        },
        "id": "4sxXkyIXKmhL",
        "outputId": "a2ab9722-0509-4d00-d622-758ca66580c0"
      },
      "outputs": [
        {
          "name": "stdout",
          "output_type": "stream",
          "text": [
            "Random Forest Accuracy: 1.0\n"
          ]
        }
      ],
      "source": [
        "rf = RandomForestClassifier(n_estimators=100)\n",
        "rf.fit(X_train, y_train)\n",
        "rf_preds = rf.predict(X_test)\n",
        "rf_accuracy = accuracy_score(y_test, rf_preds)\n",
        "print(f\"Random Forest Accuracy: {rf_accuracy}\")\n"
      ]
    },
    {
      "cell_type": "code",
      "execution_count": null,
      "metadata": {
        "colab": {
          "base_uri": "https://localhost:8080/"
        },
        "id": "TpD9bo2PKvD3",
        "outputId": "ba82d4f1-6908-49c3-bab4-f593f678dde9"
      },
      "outputs": [
        {
          "name": "stdout",
          "output_type": "stream",
          "text": [
            "Ensemble Voting Classifier Accuracy: 1.0\n"
          ]
        }
      ],
      "source": [
        "ensemble_model = VotingClassifier(\n",
        "    estimators=[\n",
        "        ('log_reg', log_reg),\n",
        "        ('rf', rf),\n",
        "        ('dt', dt)\n",
        "    ],\n",
        "    voting='soft'\n",
        ")\n",
        "\n",
        "ensemble_model.fit(X_train, y_train)\n",
        "ensemble_preds = ensemble_model.predict(X_test)\n",
        "ensemble_accuracy = accuracy_score(y_test, ensemble_preds)\n",
        "print(f\"Ensemble Voting Classifier Accuracy: {ensemble_accuracy}\")\n"
      ]
    }
  ],
  "metadata": {
    "colab": {
      "provenance": []
    },
    "kernelspec": {
      "display_name": "Python 3",
      "name": "python3"
    },
    "language_info": {
      "name": "python"
    }
  },
  "nbformat": 4,
  "nbformat_minor": 0
}